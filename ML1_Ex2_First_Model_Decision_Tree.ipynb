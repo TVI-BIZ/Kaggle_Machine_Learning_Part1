{
  "cells": [
    {
      "metadata": {
        "_uuid": "f3abd2e2a5bd5094886d50246861196b828d206c"
      },
      "cell_type": "markdown",
      "source": "## Recap\nSo far, you have loaded your data and reviewed it with the following code. Run this cell to set up your coding environment where the previous step left off."
    },
    {
      "metadata": {
        "_uuid": "f99a5d7094c526da15b7fbde4226cc21dd75c6b9",
        "trusted": true
      },
      "cell_type": "code",
      "source": "# Code you have previously used to load data\nimport pandas as pd\n\n# Path of the file to read\niowa_file_path = '../input/home-data-for-ml-course/train.csv'\n\nhome_data = pd.read_csv(iowa_file_path)\n\n# Set up code checking\nfrom learntools.core import binder\nbinder.bind(globals())\nfrom learntools.machine_learning.ex3 import *\n\nprint(\"Setup Complete\")",
      "execution_count": 1,
      "outputs": [
        {
          "output_type": "stream",
          "text": "Setup Complete\n",
          "name": "stdout"
        }
      ]
    },
    {
      "metadata": {
        "_uuid": "330bc26d8285f3c010c817fbcdce8c9202a4441c"
      },
      "cell_type": "markdown",
      "source": "# Exercises\n\n## Step 1: Specify Prediction Target\nSelect the target variable, which corresponds to the sales price. Save this to a new variable called `y`. You'll need to print a list of the columns to find the name of the column you need.\n"
    },
    {
      "metadata": {
        "_uuid": "28dbfe948655c8664ddd6cf296a228d8a8d884ea",
        "trusted": true
      },
      "cell_type": "code",
      "source": "# print the list of columns in the dataset to find the name of the prediction target\niowa_features = [\"YearBuilt\",\"LotArea\",\"FullBath\",]\n#home_data.columns",
      "execution_count": 11,
      "outputs": []
    },
    {
      "metadata": {
        "_uuid": "1862dbf5335f909f88258a008b9ae3d188ed466e",
        "trusted": true
      },
      "cell_type": "code",
      "source": "y = home_data.SalePrice\n\nstep_1.check()",
      "execution_count": 8,
      "outputs": [
        {
          "output_type": "display_data",
          "data": {
            "text/plain": "<IPython.core.display.Javascript object>",
            "application/javascript": "parent.postMessage({\"jupyterEvent\": \"custom.exercise_interaction\", \"data\": {\"outcomeType\": 1, \"valueTowardsCompletion\": 0.25, \"interactionType\": 1, \"learnTutorialId\": 84, \"questionId\": \"1_SetTarget\", \"learnToolsVersion\": \"0.2.11\", \"failureMessage\": \"\", \"exceptionClass\": \"\", \"trace\": \"\"}}, \"*\")"
          },
          "metadata": {}
        },
        {
          "output_type": "display_data",
          "data": {
            "text/plain": "Correct",
            "text/markdown": "<span style=\"color:#33cc33\">Correct</span>"
          },
          "metadata": {}
        }
      ]
    },
    {
      "metadata": {
        "collapsed": true,
        "_uuid": "8f90c2b8819ff56e65cc2afcc8bcc5b2ce2bbfb9",
        "trusted": false
      },
      "cell_type": "code",
      "source": "# The lines below will show you a hint or the solution.\n# step_1.hint() \n# step_1.solution()\n",
      "execution_count": null,
      "outputs": []
    },
    {
      "metadata": {
        "_uuid": "b7290439af7221574b1fb37452bf67eeb20b710f"
      },
      "cell_type": "markdown",
      "source": "## Step 2: Create X\nNow you will create a DataFrame called `X` holding the predictive features.\n\nSince you want only some columns from the original data, you'll first create a list with the names of the columns you want in `X`.\n\nYou'll use just the following columns in the list (you can copy and paste the whole list to save some typing, though you'll still need to add quotes):\n    * LotArea\n    * YearBuilt\n    * 1stFlrSF\n    * 2ndFlrSF\n    * FullBath\n    * BedroomAbvGr\n    * TotRmsAbvGrd\n\nAfter you've created that list of features, use it to create the DataFrame that you'll use to fit the model."
    },
    {
      "metadata": {
        "_uuid": "41162c311f3279ca726507c95857598f6a4d0730",
        "trusted": true
      },
      "cell_type": "code",
      "source": "# Create the list of features below\n## Step 2: Create X\nfeature_names = [\"YearBuilt\",\"LotArea\",\"FullBath\",\"BedroomAbvGr\",\n                 \"1stFlrSF\",\"2ndFlrSF\",\"TotRmsAbvGrd\"]\n\n# select data corresponding to features in feature_names\nX = home_data[feature_names]\n\nstep_2.check()",
      "execution_count": 13,
      "outputs": [
        {
          "output_type": "display_data",
          "data": {
            "text/plain": "<IPython.core.display.Javascript object>",
            "application/javascript": "parent.postMessage({\"jupyterEvent\": \"custom.exercise_interaction\", \"data\": {\"outcomeType\": 1, \"valueTowardsCompletion\": 0.25, \"interactionType\": 1, \"learnTutorialId\": 84, \"questionId\": \"2_SelectPredictionData\", \"learnToolsVersion\": \"0.2.11\", \"failureMessage\": \"\", \"exceptionClass\": \"\", \"trace\": \"\"}}, \"*\")"
          },
          "metadata": {}
        },
        {
          "output_type": "display_data",
          "data": {
            "text/plain": "Correct",
            "text/markdown": "<span style=\"color:#33cc33\">Correct</span>"
          },
          "metadata": {}
        }
      ]
    },
    {
      "metadata": {
        "collapsed": true,
        "_uuid": "80cd192bc7f4f4239932ebc6789d86b56ecba21a",
        "trusted": false
      },
      "cell_type": "code",
      "source": "# step_2.hint()\n# step_2.solution()",
      "execution_count": null,
      "outputs": []
    },
    {
      "metadata": {
        "_uuid": "3ddad0ade33c05790d1dd40d8cbb1abef61d901c"
      },
      "cell_type": "markdown",
      "source": "## Review Data\nBefore building a model, take a quick look at **X** to verify it looks sensible"
    },
    {
      "metadata": {
        "_uuid": "183777b15286dd483bf967ed15942bb5c5b68ec9",
        "trusted": true
      },
      "cell_type": "code",
      "source": "# Review data\n# print description or statistics from X\nprint(X.describe())\n\n# print the top few lines\nprint(X.head())\n",
      "execution_count": 15,
      "outputs": [
        {
          "output_type": "stream",
          "text": "         YearBuilt        LotArea      ...          2ndFlrSF  TotRmsAbvGrd\ncount  1460.000000    1460.000000      ...       1460.000000   1460.000000\nmean   1971.267808   10516.828082      ...        346.992466      6.517808\nstd      30.202904    9981.264932      ...        436.528436      1.625393\nmin    1872.000000    1300.000000      ...          0.000000      2.000000\n25%    1954.000000    7553.500000      ...          0.000000      5.000000\n50%    1973.000000    9478.500000      ...          0.000000      6.000000\n75%    2000.000000   11601.500000      ...        728.000000      7.000000\nmax    2010.000000  215245.000000      ...       2065.000000     14.000000\n\n[8 rows x 7 columns]\n   YearBuilt  LotArea  FullBath      ...       1stFlrSF  2ndFlrSF  TotRmsAbvGrd\n0       2003     8450         2      ...            856       854             8\n1       1976     9600         2      ...           1262         0             6\n2       2001    11250         2      ...            920       866             6\n3       1915     9550         1      ...            961       756             7\n4       2000    14260         2      ...           1145      1053             9\n\n[5 rows x 7 columns]\n",
          "name": "stdout"
        }
      ]
    },
    {
      "metadata": {
        "_uuid": "e6df24658430b115500180c33fd5c867d9f0e860"
      },
      "cell_type": "markdown",
      "source": "## Step 3: Specify and Fit Model\nCreate a `DecisionTreeRegressor` and save it iowa_model. Ensure you've done the relevant import from sklearn to run this command.\n\nThen fit the model you just created using the data in `X` and `y` that you saved above."
    },
    {
      "metadata": {
        "_uuid": "e5d4a234e5e92db526cdd9cdf830272195fb0ef1",
        "trusted": true
      },
      "cell_type": "code",
      "source": "from sklearn.tree import DecisionTreeRegressor\n#specify the model. \n\n#For model reproducibility, set a numeric value for random_state when specifying the model\niowa_model = DecisionTreeRegressor(random_state = 1)\n\n# Fit the model\niowa_model.fit(X,y)\n\nstep_3.check()",
      "execution_count": 16,
      "outputs": [
        {
          "output_type": "display_data",
          "data": {
            "text/plain": "<IPython.core.display.Javascript object>",
            "application/javascript": "parent.postMessage({\"jupyterEvent\": \"custom.exercise_interaction\", \"data\": {\"outcomeType\": 1, \"valueTowardsCompletion\": 0.25, \"interactionType\": 1, \"learnTutorialId\": 84, \"questionId\": \"3_CreateModel\", \"learnToolsVersion\": \"0.2.11\", \"failureMessage\": \"\", \"exceptionClass\": \"\", \"trace\": \"\"}}, \"*\")"
          },
          "metadata": {}
        },
        {
          "output_type": "display_data",
          "data": {
            "text/plain": "Correct",
            "text/markdown": "<span style=\"color:#33cc33\">Correct</span>"
          },
          "metadata": {}
        }
      ]
    },
    {
      "metadata": {
        "collapsed": true,
        "_uuid": "2c392b8d4e2d1a3772e17d7cf4fcf5ba4bf6de9d",
        "trusted": false
      },
      "cell_type": "code",
      "source": "# step_3.hint()\n# step_3.solution()",
      "execution_count": null,
      "outputs": []
    },
    {
      "metadata": {
        "_uuid": "40014f2b02a8cea6076feb4c37e8e0a76ff2c7f6"
      },
      "cell_type": "markdown",
      "source": "## Step 4: Make Predictions\nMake predictions with the model's `predict` command using `X` as the data. Save the results to a variable called `predictions`."
    },
    {
      "metadata": {
        "_uuid": "fb57eaea77df5a452b46aba8823cffe1af42eadc",
        "trusted": true
      },
      "cell_type": "code",
      "source": "predictions = iowa_model.predict(X)\nprint('Predictions is -{}'.format(predictions))\nstep_4.check()\nprint(y.head())",
      "execution_count": 23,
      "outputs": [
        {
          "output_type": "stream",
          "text": "Predictions is -[208500. 181500. 223500. ... 266500. 142125. 147500.]\n",
          "name": "stdout"
        },
        {
          "output_type": "display_data",
          "data": {
            "text/plain": "<IPython.core.display.Javascript object>",
            "application/javascript": "parent.postMessage({\"jupyterEvent\": \"custom.exercise_interaction\", \"data\": {\"outcomeType\": 1, \"valueTowardsCompletion\": 0.25, \"interactionType\": 1, \"learnTutorialId\": 84, \"questionId\": \"4_MakePredictions\", \"learnToolsVersion\": \"0.2.11\", \"failureMessage\": \"\", \"exceptionClass\": \"\", \"trace\": \"\"}}, \"*\")"
          },
          "metadata": {}
        },
        {
          "output_type": "display_data",
          "data": {
            "text/plain": "Correct",
            "text/markdown": "<span style=\"color:#33cc33\">Correct</span>"
          },
          "metadata": {}
        },
        {
          "output_type": "stream",
          "text": "0    208500\n1    181500\n2    223500\n3    140000\n4    250000\nName: SalePrice, dtype: int64\n",
          "name": "stdout"
        }
      ]
    },
    {
      "metadata": {
        "collapsed": true,
        "_uuid": "ec3df5fbe857083db8d61e6cd48072c15a7c9ba6",
        "trusted": false
      },
      "cell_type": "code",
      "source": "# step_4.hint()\n# step_4.solution()",
      "execution_count": null,
      "outputs": []
    },
    {
      "metadata": {
        "_uuid": "759a18df2f262fc30c3994e28da91650d9da8d84"
      },
      "cell_type": "markdown",
      "source": "## Think About Your Results\n\nUse the `head` method to compare the top few predictions to the actual home values (in `y`) for those same homes. Anything surprising?\n\nYou'll understand why this happened if you keep going."
    },
    {
      "metadata": {
        "_uuid": "aadf037c877681f69b3ebc74cb399538aab28d1a"
      },
      "cell_type": "markdown",
      "source": "\n## Keep Going\nYou've built a decision tree model.  It's natural to ask how accurate the model's predictions will be and how you can improve that. Learn how to do that with **[Model Validation](https://www.kaggle.com/dansbecker/model-validation)**.\n\n---\n**[Course Home Page](https://www.kaggle.com/learn/machine-learning)**\n\n\n"
    }
  ],
  "metadata": {
    "kernelspec": {
      "display_name": "Python 3",
      "language": "python",
      "name": "python3"
    },
    "language_info": {
      "name": "python",
      "version": "3.6.6",
      "mimetype": "text/x-python",
      "codemirror_mode": {
        "name": "ipython",
        "version": 3
      },
      "pygments_lexer": "ipython3",
      "nbconvert_exporter": "python",
      "file_extension": ".py"
    }
  },
  "nbformat": 4,
  "nbformat_minor": 1
}