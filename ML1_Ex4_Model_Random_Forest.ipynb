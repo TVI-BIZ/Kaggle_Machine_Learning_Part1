{
  "cells": [
    {
      "metadata": {
        "_uuid": "d14e12fca850d2074d779afd250935f341304219"
      },
      "cell_type": "markdown",
      "source": "**[Machine Learning Course Home Page](https://www.kaggle.com/learn/machine-learning)**\n\n---\n\n\n## Recap\nHere's the code you've written so far."
    },
    {
      "metadata": {
        "_uuid": "508d18199620a2154631cdf697419dbe98568fa1",
        "trusted": true
      },
      "cell_type": "code",
      "source": "# Code you have previously used to load data\nimport pandas as pd\nfrom sklearn.metrics import mean_absolute_error\nfrom sklearn.model_selection import train_test_split\nfrom sklearn.tree import DecisionTreeRegressor\n\n\n# Path of the file to read\niowa_file_path = '../input/home-data-for-ml-course/train.csv'\n\nhome_data = pd.read_csv(iowa_file_path)\n# Create target object and call it y\ny = home_data.SalePrice\n# Create X\nfeatures = ['LotArea', 'YearBuilt', '1stFlrSF', '2ndFlrSF', 'FullBath', 'BedroomAbvGr', 'TotRmsAbvGrd']\nX = home_data[features]\n\n# Split into validation and training data\ntrain_X, val_X, train_y, val_y = train_test_split(X, y, random_state=1)\n\n# Specify Model\niowa_model = DecisionTreeRegressor(random_state=1)\n# Fit Model\niowa_model.fit(train_X, train_y)\n\n# Make validation predictions and calculate mean absolute error\nval_predictions = iowa_model.predict(val_X)\nval_mae = mean_absolute_error(val_predictions, val_y)\nprint(\"Validation MAE when not specifying max_leaf_nodes: {:,.0f}\".format(val_mae))\n\n# Using best value for max_leaf_nodes\niowa_model = DecisionTreeRegressor(max_leaf_nodes=100, random_state=1)\niowa_model.fit(train_X, train_y)\nval_predictions = iowa_model.predict(val_X)\nval_mae = mean_absolute_error(val_predictions, val_y)\nprint(\"Validation MAE for best value of max_leaf_nodes: {:,.0f}\".format(val_mae))\n\n\n# Set up code checking\nfrom learntools.core import binder\nbinder.bind(globals())\nfrom learntools.machine_learning.ex6 import *\nprint(\"\\nSetup complete\")",
      "execution_count": 1,
      "outputs": [
        {
          "output_type": "stream",
          "text": "Validation MAE when not specifying max_leaf_nodes: 29,653\nValidation MAE for best value of max_leaf_nodes: 27,283\n\nSetup complete\n",
          "name": "stdout"
        }
      ]
    },
    {
      "metadata": {
        "_uuid": "f5c406a7fa8dcb63bec1275491f76b3fbff9746f"
      },
      "cell_type": "markdown",
      "source": "# Exercises\nData science isn't always this easy. But replacing the decision tree with a Random Forest is going to be an easy win."
    },
    {
      "metadata": {
        "_uuid": "578efc0ad5b6ed05e2c769dacae2640f00a9f77d"
      },
      "cell_type": "markdown",
      "source": "## Step 1: Use a Random Forest"
    },
    {
      "metadata": {
        "_uuid": "997f5e22a0c84d953244cc127bfb4bd1809247aa",
        "trusted": true
      },
      "cell_type": "code",
      "source": "from sklearn.ensemble import RandomForestRegressor\n\n# Define the model. Set random_state to 1\nrf_model = RandomForestRegressor(random_state = 1)\n\n# fit your model\nrf_model.fit(train_X,train_y)\n\n# Calculate the mean absolute error of your Random Forest model on the validation data\nrf_val_mae = mean_absolute_error(val_y, rf_model.predict(val_X))\n\nprint(\"Validation MAE for Random Forest Model: {}\".format(rf_val_mae))\n\nstep_1.check()",
      "execution_count": 2,
      "outputs": [
        {
          "output_type": "stream",
          "text": "Validation MAE for Random Forest Model: 22762.42931506849\n",
          "name": "stdout"
        },
        {
          "output_type": "stream",
          "text": "/opt/conda/lib/python3.6/site-packages/sklearn/ensemble/forest.py:246: FutureWarning: The default value of n_estimators will change from 10 in version 0.20 to 100 in 0.22.\n  \"10 in version 0.20 to 100 in 0.22.\", FutureWarning)\n",
          "name": "stderr"
        },
        {
          "output_type": "display_data",
          "data": {
            "text/plain": "<IPython.core.display.Javascript object>",
            "application/javascript": "parent.postMessage({\"jupyterEvent\": \"custom.exercise_interaction\", \"data\": {\"outcomeType\": 1, \"valueTowardsCompletion\": 1.0, \"interactionType\": 1, \"learnTutorialId\": 121, \"questionId\": \"1_CheckRfScore\", \"learnToolsVersion\": \"0.2.11\", \"failureMessage\": \"\", \"exceptionClass\": \"\", \"trace\": \"\"}}, \"*\")"
          },
          "metadata": {}
        },
        {
          "output_type": "display_data",
          "data": {
            "text/plain": "Correct",
            "text/markdown": "<span style=\"color:#33cc33\">Correct</span>"
          },
          "metadata": {}
        }
      ]
    },
    {
      "metadata": {
        "_uuid": "b6d13db90e54a2c4b6258a924638417a492c5d2f",
        "trusted": false
      },
      "cell_type": "code",
      "source": "# The lines below will show you a hint or the solution.\n# step_1.hint() \n# step_1.solution()\n",
      "execution_count": null,
      "outputs": []
    },
    {
      "metadata": {
        "_uuid": "fa7b60cbd31313be6701a138daad97183fda4476"
      },
      "cell_type": "markdown",
      "source": "So far, you have followed specific instructions at each step of your project. This helped learn key ideas and build your first model, but now you know enough to try things on your own. \n\nMachine Learning competitions are a great way to try your own ideas and learn more as you independently navigate a machine learning project. \n"
    },
    {
      "metadata": {
        "_uuid": "8b2518c187ad1ffd30891a7024512b71f88b3585",
        "trusted": false
      },
      "cell_type": "code",
      "source": "# Keep Going\n\nYou are ready for **[Machine Learning Competitions](https://www.kaggle.com/kernels/fork/1259198).**\n\n\n---\n**[Machine Learning Course Home Page](https://www.kaggle.com/learn/machine-learning)**\n\n",
      "execution_count": null,
      "outputs": []
    }
  ],
  "metadata": {
    "kernelspec": {
      "display_name": "Python 3",
      "language": "python",
      "name": "python3"
    },
    "language_info": {
      "name": "python",
      "version": "3.6.6",
      "mimetype": "text/x-python",
      "codemirror_mode": {
        "name": "ipython",
        "version": 3
      },
      "pygments_lexer": "ipython3",
      "nbconvert_exporter": "python",
      "file_extension": ".py"
    }
  },
  "nbformat": 4,
  "nbformat_minor": 1
}